{
  "nbformat": 4,
  "nbformat_minor": 0,
  "metadata": {
    "colab": {
      "provenance": [],
      "authorship_tag": "ABX9TyMmN0pQDA6k0ghMwdlln9uC",
      "include_colab_link": true
    },
    "kernelspec": {
      "name": "python3",
      "display_name": "Python 3"
    },
    "language_info": {
      "name": "python"
    }
  },
  "cells": [
    {
      "cell_type": "markdown",
      "metadata": {
        "id": "view-in-github",
        "colab_type": "text"
      },
      "source": [
        "<a href=\"https://colab.research.google.com/github/Rick2517/meus-projetos-basicos-py-/blob/main/Desafios_Bootcamp_Santander.ipynb\" target=\"_parent\"><img src=\"https://colab.research.google.com/assets/colab-badge.svg\" alt=\"Open In Colab\"/></a>"
      ]
    },
    {
      "cell_type": "code",
      "execution_count": 8,
      "metadata": {
        "colab": {
          "base_uri": "https://localhost:8080/"
        },
        "id": "4YPGbWz-bkz1",
        "outputId": "dfa29c51-73ad-4d05-c633-52b19aa7f398"
      },
      "outputs": [
        {
          "output_type": "stream",
          "name": "stdout",
          "text": [
            "1000\n",
            "500\n",
            "200\n",
            "O saldo final e: {saldo_final:.1f}\n"
          ]
        }
      ],
      "source": [
        "saldo_atual = float(input())\n",
        "valor_deposito = float(input())\n",
        "valor_retirada = float(input())\n",
        "\n",
        "#TODO: Calcular o saldo atualizado de acordo com a descrição deste desafio.\n",
        "saldo_final = saldo_atual + valor_deposito - valor_retirada\n",
        "#TODO: Imprimir o a saída de conforme a tabela de exemplos (uma casa decimal).\n",
        "print(\"O saldo final e: {saldo_final:.1f}\")"
      ]
    },
    {
      "cell_type": "code",
      "source": [
        "valor_inicial = float(input())\n",
        "taxa_juros = float(input())\n",
        "periodo = int(input())\n",
        "0\n",
        "\n",
        "valor_final = valor_inicial\n",
        "\n",
        "for _ in range(periodo):\n",
        "    valor_final += valor_final * taxa_juros\n",
        "\n",
        "print(f\"Valor final do investimento: R$ {valor_final:.2f}\")\n"
      ],
      "metadata": {
        "colab": {
          "base_uri": "https://localhost:8080/"
        },
        "id": "CaOg0Q56i7YC",
        "outputId": "2b042bdc-581b-49b6-89a7-a98108eaf9e9"
      },
      "execution_count": 16,
      "outputs": [
        {
          "output_type": "stream",
          "name": "stdout",
          "text": [
            "20000\n",
            "0.04\n",
            "10\n",
            "Valor final do investimento: R$ 29604.89\n"
          ]
        }
      ]
    },
    {
      "cell_type": "code",
      "source": [
        "valor = float(input())\n",
        "\n",
        "if valor > 0:\n",
        "    print(f\"Depósito realizado com sucesso!\\nSaldo atual: R$ {valor:.2f}\")\n",
        "elif valor < 0:\n",
        "    print(\"Valor invalido! Digite um valor maior que zero.\")\n",
        "else:\n",
        "    print(\"Encerrando o programa...\")"
      ],
      "metadata": {
        "colab": {
          "base_uri": "https://localhost:8080/"
        },
        "id": "sI-2A1zElSsJ",
        "outputId": "27bab5a8-fd48-40ee-9005-4ff4e397397f"
      },
      "execution_count": 36,
      "outputs": [
        {
          "output_type": "stream",
          "name": "stdout",
          "text": [
            "500.50\n",
            "Depósito realizado com sucesso!\n",
            "Saldo atual: R$ 500.50\n"
          ]
        }
      ]
    }
  ]
}