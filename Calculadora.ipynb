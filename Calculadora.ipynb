{
  "nbformat": 4,
  "nbformat_minor": 0,
  "metadata": {
    "colab": {
      "provenance": [],
      "authorship_tag": "ABX9TyOc5hbIlBOwCr5LG29JITp6",
      "include_colab_link": true
    },
    "kernelspec": {
      "name": "python3",
      "display_name": "Python 3"
    },
    "language_info": {
      "name": "python"
    }
  },
  "cells": [
    {
      "cell_type": "markdown",
      "metadata": {
        "id": "view-in-github",
        "colab_type": "text"
      },
      "source": [
        "<a href=\"https://colab.research.google.com/github/Rick2517/meus-projetos-basicos-py-/blob/main/Calculadora.ipynb\" target=\"_parent\"><img src=\"https://colab.research.google.com/assets/colab-badge.svg\" alt=\"Open In Colab\"/></a>"
      ]
    },
    {
      "cell_type": "code",
      "execution_count": 3,
      "metadata": {
        "colab": {
          "base_uri": "https://localhost:8080/"
        },
        "id": "LQ8TEO4UGnYU",
        "outputId": "ee2d70a5-7987-430e-ad4f-f0c3e011617e"
      },
      "outputs": [
        {
          "output_type": "stream",
          "name": "stdout",
          "text": [
            "Selecione a operação:\n",
            "1. Adição\n",
            "2. Subtração\n",
            "3. Multiplicação\n",
            "4. Divisão\n",
            "5. Sair\n",
            "Digite o número da operação desejada: 4\n",
            "Digite o primeiro número: 3\n",
            "Digite o segundo número: 0\n",
            "Resultado: Erro: divisão por zero\n",
            "Selecione a operação:\n",
            "1. Adição\n",
            "2. Subtração\n",
            "3. Multiplicação\n",
            "4. Divisão\n",
            "5. Sair\n",
            "Digite o número da operação desejada: 5\n",
            "Calculadora encerrada.\n"
          ]
        }
      ],
      "source": [
        "#Calculadora em Python\n",
        "\n",
        "# definir as operações\n",
        "def adicao(a, b):\n",
        "    return a + b\n",
        "\n",
        "def subtracao(a, b):\n",
        "    return a - b\n",
        "\n",
        "def multiplicacao(a, b):\n",
        "    return a * b\n",
        "\n",
        "def divisao(a, b):\n",
        "    if b != 0:\n",
        "        return a / b\n",
        "    else:\n",
        "        return \"Erro: divisão por zero\"\n",
        "\n",
        "# escolher a operação\n",
        "while True:\n",
        "    print(\"Selecione a operação:\")\n",
        "    print(\"1. Adição\")\n",
        "    print(\"2. Subtração\")\n",
        "    print(\"3. Multiplicação\")\n",
        "    print(\"4. Divisão\")\n",
        "    print(\"5. Sair\")\n",
        "\n",
        "    escolha = input(\"Digite o número da operação desejada: \")\n",
        "\n",
        "    if escolha == '5':\n",
        "        print(\"Calculadora encerrada.\")\n",
        "        break\n",
        "# calcular os valores\n",
        "    num1 = float(input(\"Digite o primeiro número: \"))\n",
        "    num2 = float(input(\"Digite o segundo número: \"))\n",
        "\n",
        "    if escolha == '1':\n",
        "        print(\"Resultado:\", adicao(num1, num2))\n",
        "    elif escolha == '2':\n",
        "        print(\"Resultado:\", subtracao(num1, num2))\n",
        "    elif escolha == '3':\n",
        "        print(\"Resultado:\", multiplicacao(num1, num2))\n",
        "    elif escolha == '4':\n",
        "        print(\"Resultado:\", divisao(num1, num2))\n",
        "    else:\n",
        "        print(\"Escolha inválida. Por favor, selecione uma operação válida!\")\n"
      ]
    }
  ]
}