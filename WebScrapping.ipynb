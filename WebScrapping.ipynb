{
  "nbformat": 4,
  "nbformat_minor": 0,
  "metadata": {
    "colab": {
      "provenance": []
    },
    "kernelspec": {
      "name": "python3",
      "display_name": "Python 3"
    },
    "language_info": {
      "name": "python"
    }
  },
  "cells": [
    {
      "cell_type": "code",
      "source": [
        "pip install reportlab\n"
      ],
      "metadata": {
        "colab": {
          "base_uri": "https://localhost:8080/"
        },
        "id": "bIIFu1T1ZOU3",
        "outputId": "cdd22819-f2ac-4be6-c8d5-4e302e4303ec"
      },
      "execution_count": null,
      "outputs": [
        {
          "output_type": "stream",
          "name": "stdout",
          "text": [
            "Collecting reportlab\n",
            "  Downloading reportlab-4.0.4-py3-none-any.whl (1.9 MB)\n",
            "\u001b[2K     \u001b[90m━━━━━━━━━━━━━━━━━━━━━━━━━━━━━━━━━━━━━━━━\u001b[0m \u001b[32m1.9/1.9 MB\u001b[0m \u001b[31m9.0 MB/s\u001b[0m eta \u001b[36m0:00:00\u001b[0m\n",
            "\u001b[?25hRequirement already satisfied: pillow>=9.0.0 in /usr/local/lib/python3.10/dist-packages (from reportlab) (9.4.0)\n",
            "Installing collected packages: reportlab\n",
            "Successfully installed reportlab-4.0.4\n"
          ]
        }
      ]
    },
    {
      "cell_type": "code",
      "execution_count": null,
      "metadata": {
        "colab": {
          "base_uri": "https://localhost:8080/"
        },
        "id": "Q6tktm8rYCa8",
        "outputId": "4272fa66-b6f7-4573-a864-047785f553a1"
      },
      "outputs": [
        {
          "output_type": "stream",
          "name": "stdout",
          "text": [
            "Requirement already satisfied: requests in /usr/local/lib/python3.10/dist-packages (2.31.0)\n",
            "Requirement already satisfied: beautifulsoup4 in /usr/local/lib/python3.10/dist-packages (4.11.2)\n",
            "Requirement already satisfied: charset-normalizer<4,>=2 in /usr/local/lib/python3.10/dist-packages (from requests) (3.2.0)\n",
            "Requirement already satisfied: idna<4,>=2.5 in /usr/local/lib/python3.10/dist-packages (from requests) (3.4)\n",
            "Requirement already satisfied: urllib3<3,>=1.21.1 in /usr/local/lib/python3.10/dist-packages (from requests) (2.0.4)\n",
            "Requirement already satisfied: certifi>=2017.4.17 in /usr/local/lib/python3.10/dist-packages (from requests) (2023.7.22)\n",
            "Requirement already satisfied: soupsieve>1.2 in /usr/local/lib/python3.10/dist-packages (from beautifulsoup4) (2.4.1)\n"
          ]
        }
      ],
      "source": [
        "pip install requests beautifulsoup4\n"
      ]
    },
    {
      "cell_type": "code",
      "source": [
        "import requests\n",
        "from bs4 import BeautifulSoup\n",
        "from reportlab.lib.pagesizes import letter\n",
        "from reportlab.pdfgen import canvas\n",
        "\n",
        "# URL da página a ser feito o web scraping\n",
        "url = 'https://g1.globo.com/'\n",
        "\n",
        "# Faz a requisição GET à página\n",
        "response = requests.get(url)\n",
        "\n",
        "# Verifica se a requisição foi bem sucedida\n",
        "if response.status_code == 200:\n",
        "    # Parseia o conteúdo da página usando BeautifulSoup\n",
        "    soup = BeautifulSoup(response.text, 'html.parser')\n",
        "\n",
        "    # Encontra todas as tags de notícias (supondo que as notícias estejam em elementos <a>)\n",
        "    news_links = soup.find_all('a', class_='feed-post-link')\n",
        "\n",
        "    # Criar um documento PDF\n",
        "    pdf_filename = 'noticias_g1.pdf'\n",
        "    c = canvas.Canvas(pdf_filename, pagesize=letter)\n",
        "\n",
        "    # Configurações de fonte e tamanho\n",
        "    title_font = 'Helvetica-Bold'\n",
        "    content_font = 'Helvetica'\n",
        "    title_size = 16\n",
        "    content_size = 12\n",
        "\n",
        "    y_position = c._pagesize[1] - 100  # Posição inicial para o conteúdo\n",
        "\n",
        "    # Título do documento\n",
        "    c.setFont(title_font, title_size)\n",
        "    c.drawString(50, y_position, 'Notícias do G1 da Globo')\n",
        "    y_position -= 30  # Espaço após o título\n",
        "\n",
        "    # Loop pelas tags de notícias encontradas\n",
        "    for link in news_links:\n",
        "        # Obtém o título da notícia\n",
        "        news_title = link.get_text()\n",
        "\n",
        "        # Obtém o link da notícia\n",
        "        news_url = link['href']\n",
        "\n",
        "        # Adicionar as informações formatadas ao PDF\n",
        "        c.setFont(content_font, content_size)\n",
        "        c.drawString(50, y_position, f'Título: {news_title}')\n",
        "        c.drawString(50, y_position - 20, f'Link: {news_url}')\n",
        "        c.drawString(50, y_position - 40, '-' * 70)\n",
        "\n",
        "        y_position -= 60  # Espaço após cada notícia\n",
        "\n",
        "    # Salvar o PDF\n",
        "    c.save()\n",
        "    print(f'PDF salvo como {pdf_filename}')\n",
        "else:\n",
        "    print('Falha ao obter a página')\n"
      ],
      "metadata": {
        "id": "cuhCkRacZ_wH",
        "outputId": "be90012a-352c-488c-f9f9-5a6065ff8807",
        "colab": {
          "base_uri": "https://localhost:8080/"
        }
      },
      "execution_count": null,
      "outputs": [
        {
          "output_type": "stream",
          "name": "stdout",
          "text": [
            "PDF salvo como noticias_g1.pdf\n"
          ]
        }
      ]
    }
  ]
}